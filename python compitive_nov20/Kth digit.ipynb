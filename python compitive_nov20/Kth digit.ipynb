{
 "cells": [
  {
   "cell_type": "markdown",
   "metadata": {},
   "source": [
    "Given two numbers A and B, find Kth digit from right of AB."
   ]
  },
  {
   "cell_type": "markdown",
   "metadata": {},
   "source": [
    "Input:\n",
    "A = 3\n",
    "B = 3\n",
    "K = 1\n",
    "Output:\n",
    "7\n",
    "Explanation:\n",
    "33 = 27 and 1st\n",
    "digit from right is \n",
    "7"
   ]
  },
  {
   "cell_type": "code",
   "execution_count": null,
   "metadata": {},
   "outputs": [],
   "source": [
    "class Solution:\n",
    "    def kthDigit(self, A, B, K):\n",
    "        x=pow(A,B)\n",
    "        temp=0\n",
    "        while(K>0):\n",
    "            temp=x%10\n",
    "            x=x//10\n",
    "            K-=1\n",
    "        return temp\n",
    "        # code here\n",
    "\n",
    "\n",
    "\n",
    "#{ \n",
    "#  Driver Code Starts\n",
    "#Initial Template for Python 3\n",
    "\n",
    "if __name__ == '__main__': \n",
    "    t = int (input ())\n",
    "    for _ in range (t):\n",
    "        A,B,K = input().split()\n",
    "        ob = Solution()\n",
    "        print(ob.kthDigit(int(A),int(B),int(K)))\n",
    "# } Driver Code Ends"
   ]
  }
 ],
 "metadata": {
  "kernelspec": {
   "display_name": "Python 3",
   "language": "python",
   "name": "python3"
  },
  "language_info": {
   "codemirror_mode": {
    "name": "ipython",
    "version": 3
   },
   "file_extension": ".py",
   "mimetype": "text/x-python",
   "name": "python",
   "nbconvert_exporter": "python",
   "pygments_lexer": "ipython3",
   "version": "3.7.4"
  }
 },
 "nbformat": 4,
 "nbformat_minor": 2
}
